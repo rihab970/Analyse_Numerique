{
 "cells": [
  {
   "cell_type": "markdown",
   "id": "2b118f4b",
   "metadata": {},
   "source": [
    "<img src=\"isitcom.PNG\"/>"
   ]
  },
  {
   "cell_type": "markdown",
   "id": "4e315680",
   "metadata": {},
   "source": [
    "<h1 style=\"color:red; text-align: center;\"> Tp3 </h1>"
   ]
  },
  {
   "cell_type": "markdown",
   "id": "a336ed4f",
   "metadata": {},
   "source": [
    "<h3 style=\"text-align: center;\">Rréalisé par : Rihab Mribah </h3>"
   ]
  },
  {
   "cell_type": "markdown",
   "id": "3c90d5a3",
   "metadata": {},
   "source": [
    "<h2 style=\"color:green;\">Partie Théorique </h2>"
   ]
  },
  {
   "cell_type": "markdown",
   "id": "b4a89cf1",
   "metadata": {},
   "source": [
    "<p>On appelle formule composite l’expression caractérisant cette estimation.\n",
    "Notons k l’indice des n sous-intervalles, $h = (b − a)/n$ la longueur de chacun d’eux, $x_k = a + kh$ la borne inférieure et\n",
    "$m_k = a + (k + 1/2)h$ le point milieu, ceci pour k entre 0 et n − 1. Voici quelques formules composites :</p>"
   ]
  },
  {
   "cell_type": "markdown",
   "id": "fc19f709",
   "metadata": {},
   "source": [
    "<h3 style=\"color:#1CBCC9;\">Méthode des rectangles : </h3>"
   ]
  },
  {
   "cell_type": "markdown",
   "id": "2fe15c18",
   "metadata": {},
   "source": [
    "$$ I(f) = \\frac{(b-a)}{n}\\sum_{K=0}^{n-1}f(x_k)$$"
   ]
  },
  {
   "cell_type": "markdown",
   "id": "0930c638",
   "metadata": {},
   "source": [
    "<h3 style=\"color:#1CBCC9;\">Méthode du point milieu : </h3>"
   ]
  },
  {
   "cell_type": "markdown",
   "id": "52ef5cba",
   "metadata": {},
   "source": [
    "$$ I(f) = \\frac{(b-a)}{n}\\sum_{K=0}^{n-1}f(m_k)$$"
   ]
  },
  {
   "cell_type": "markdown",
   "id": "36b8a392",
   "metadata": {},
   "source": [
    "<h3 style=\"color:#1CBCC9;\">Méthode des Trapézes : </h3>"
   ]
  },
  {
   "cell_type": "markdown",
   "id": "03ed8fe2",
   "metadata": {},
   "source": [
    "$$ I(f) = \\frac{(b-a)}{n}\\left(\\frac{f(a)+f(b)}{2}+\\sum_{K=1}^{n-1}f(a+kh)\\right)$$"
   ]
  },
  {
   "cell_type": "markdown",
   "id": "dfa4a30b",
   "metadata": {},
   "source": [
    "<h3 style=\"color:#1CBCC9;\">Méthode de Simpson : </h3>"
   ]
  },
  {
   "cell_type": "markdown",
   "id": "e5167d5d",
   "metadata": {},
   "source": [
    "$$ I(f) = \\frac{h}{6}\\left(f(a)+f(b)+2\\sum_{K=1}^{n-1}f(x_k)+4\\sum_{K=0}^{n-1}f(m_k)\\right)$$"
   ]
  },
  {
   "cell_type": "markdown",
   "id": "809c3626",
   "metadata": {},
   "source": [
    "<h2 style=\"color:green;\">Partie Pratique </h2>"
   ]
  },
  {
   "cell_type": "markdown",
   "id": "a84a60bc",
   "metadata": {},
   "source": [
    "<p>On considère les 4 fonctions suivantes :</p>"
   ]
  },
  {
   "cell_type": "markdown",
   "id": "fbd952d4",
   "metadata": {},
   "source": [
    "$$ f_1(x)=cos(x)     \\qquad     f_2(x)=sin(x) \\\\ f_3(x)=x^2-x+5 \\qquad  f_4(x)=\\frac{1}{1+x^2}$$"
   ]
  },
  {
   "cell_type": "markdown",
   "id": "1f462a48",
   "metadata": {},
   "source": [
    "Le but de ceTP est de comparer ces 4 méthode d’intégrations numériques."
   ]
  },
  {
   "cell_type": "code",
   "execution_count": 4,
   "id": "3549f196",
   "metadata": {},
   "outputs": [],
   "source": [
    "%matplotlib inline\n",
    "import ipywidgets as widgets\n",
    "import matplotlib.pyplot as plt\n",
    "import numpy as np\n",
    "from numpy import *\n",
    "from ipywidgets import interact, interactive, fixed, interact_manual\n",
    "import ipywidgets as widgets\n",
    "from scipy.integrate import quad"
   ]
  },
  {
   "cell_type": "code",
   "execution_count": 5,
   "id": "f4f2c06e",
   "metadata": {},
   "outputs": [],
   "source": [
    "class RectangleG ( object ) :\n",
    "    def __init__ (self , a , b , n , f ) :\n",
    "        self.a = a\n",
    "        self.b = b\n",
    "        self.x = np.linspace( a , b , n+1 )\n",
    "        self.f = f\n",
    "        self.n = n\n",
    "    def integrate ( self , f ) :\n",
    "        x= self.x\n",
    "        y= f( x )\n",
    "        h = float( x[1] - x[0] )\n",
    "        s = sum( y[ 0 : -1 ] )\n",
    "        return h * s\n",
    "    def Graph ( self , f , resolution =1001 ) :\n",
    "        xl = self.x\n",
    "        yl = f(xl)\n",
    "        xlist_fine =np.linspace( self.a , self.b , resolution )\n",
    "        for i in range ( self.n ) :\n",
    "            x_rect = [xl[ i ] , xl[ i ] , xl[ i + 1 ] , xl[i+1] , xl[ i ] ] # abscisses des sommets\n",
    "            y_rect = [0 , yl[ i ] , yl[ i ] , 0 , 0 ] # ordonnees des sommets\n",
    "            plt.plot ( x_rect , y_rect , 'r' )\n",
    "        yflist_fine = f ( xlist_fine )\n",
    "        _=plt.plot ( xlist_fine , yflist_fine )\n",
    "        _=plt.plot(xl, yl,\"bo\")\n",
    "        _=plt.xlabel ( 'x' )\n",
    "        _=plt.ylabel ( ' f ( x ) ' )\n",
    "        _=plt.title ( ' Methode des rectangles gauches' )\n",
    "        #plt.text( 0.5*( self.a+ self.b ) , f(self.b ) , 'I_{} ={:0.8f}'.format(self.n,self.integrate( f ) ) , fontsize =15 )\n",
    "        plt.show()"
   ]
  },
  {
   "cell_type": "code",
   "execution_count": 6,
   "id": "bb851cac",
   "metadata": {},
   "outputs": [],
   "source": [
    "class PointMilieu ( object ) :\n",
    "    def __init__ (self , a , b , n , f ) :\n",
    "        self.a = a\n",
    "        self.b = b\n",
    "        self.x = np.linspace( a , b , n+1 )\n",
    "        self.f = f\n",
    "        self.n = n\n",
    "        \n",
    "     \n",
    "        \n",
    "    def integrate ( self , f ) :\n",
    "        h = float(self.b-self.a)/(self.n)\n",
    "        sum1 = 0\n",
    "        for i in range(self.n):\n",
    "            sum1 += f(self.a + (i+1/2)*h)\n",
    "                      \n",
    "        I = h*sum1\n",
    "        return I\n",
    "    \n",
    "    def Graph ( self , f , resolution=1001 ) :\n",
    "        xl = self.x\n",
    "        yl = f(xl)\n",
    "        xlist_fine=np.linspace( self.a , self.b , resolution )\n",
    "        for i in range ( self.n ) :\n",
    "            mi=(xl[i]+xl[i+1])/2\n",
    "            x_rect = [xl[ i ] , xl[ i ] , xl[ i + 1 ] , xl[i+1] , xl[ i ] ] # abscisses des sommets\n",
    "            y_rect = [0 , f(mi) , f(mi) , 0 , 0 ] # ordonnees des sommets\n",
    "            plt.plot ( x_rect , y_rect , 'r' )\n",
    "            plt.plot(mi,f(mi),'r*')\n",
    "        yflist_fine=f(xlist_fine)\n",
    "        plt.plot (xlist_fine,yflist_fine )\n",
    "        plt.xlabel ( 'x' )\n",
    "        plt.ylabel ( 'f(x)' )\n",
    "        plt.title ( ' Methode des points milieux' )\n",
    "        plt.text( 0.5*( self.a+ self.b ) , f(self.b ) , 'I_{} ={:0.8f}'.format(self.n,self.integrate( f ) ) , fontsize =15 )"
   ]
  },
  {
   "cell_type": "code",
   "execution_count": 7,
   "id": "ab3574ea",
   "metadata": {},
   "outputs": [],
   "source": [
    "class Trapezoidal(object):\n",
    "    def __init__(self, a, b, n, f):\n",
    "        self.a = a\n",
    "        self.b = b\n",
    "        self.x = np.linspace(a, b, n+1)\n",
    "        self.f = f\n",
    "        self.n = n\n",
    "    def integrate(self,f):\n",
    "        x=self.x\n",
    "        y=f(x)\n",
    "        h = float(x[1] - x[0])\n",
    "        s = y[0] + y[-1] + 2.0*sum(y[1:-1])\n",
    "        return h * s / 2.0\n",
    "    def Graph(self,f,resolution=1001):\n",
    "        xl = self.x\n",
    "        yl = f(xl)\n",
    "        xlist_fine=np.linspace(self.a, self.b, resolution)\n",
    "        for i in range(self.n):\n",
    "            x_rect = [xl[i], xl[i], xl[i+1], xl[i+1], xl[i]] # abscisses des sommets\n",
    "            y_rect = [0   , yl[i], yl[i+1]  , 0     , 0   ] # ordonnees des sommets\n",
    "            plt.plot(x_rect, y_rect,\"m\")\n",
    "        yflist_fine = f(xlist_fine)\n",
    "        plt.plot(xlist_fine, yflist_fine)#plot de f(x)\n",
    "        plt.plot(xl, yl,\"cs\")#point support\n",
    "        plt.ylabel ( ' f ( x ) ' )\n",
    "        plt.title ( ' Methode des Trapèzes' )\n",
    "        #plt.text( 0.5*( self.a+ self.b ) , f(self.b ) , 'I_{} ={:0.8f}'.format(self.n,self.integrate( f ) ) , fontsize =15 )"
   ]
  },
  {
   "cell_type": "code",
   "execution_count": 8,
   "id": "02d74fcf",
   "metadata": {},
   "outputs": [],
   "source": [
    "class Simpson ( object ) :\n",
    "    def __init__ (self , a , b , n , f ) :\n",
    "        self.a = a\n",
    "        self.b = b\n",
    "        self.x = np.linspace( a , b , n+1 )\n",
    "        self.f = f\n",
    "        self.n = n   \n",
    "    def integrate ( self , f ) :\n",
    "        x = self.x\n",
    "        y=f(x)\n",
    "        h=float(x[1]-x[0])\n",
    "        n=len(x)-1\n",
    "        if n%2==1:\n",
    "            n-=1\n",
    "        s = y[0] + y[n] + 4.0 * sum(y[1:-1:2]) + 2.0 * sum(y[2:-2:2])\n",
    "        return h*s/3.0\n",
    "    def Graph ( self , f , resolution=1001 ) :\n",
    "        xl = self.x\n",
    "        yl = f(xl)\n",
    "        xlist_fine=np.linspace( self.a , self.b , resolution )\n",
    "        for i in range ( self.n ) :\n",
    "            xx=np.linspace(xl[i],xl[i+1],resolution)\n",
    "            m=(xl[i]+xl[i+1])/2\n",
    "            aa=xl[i]\n",
    "            bb=xl[i+1]\n",
    "            l0=(xx-m)/(aa-m)*(xx-bb)/(aa-bb)\n",
    "            l1=(xx-aa)/(m-aa)*(xx-bb)/(m-bb)\n",
    "            l2=(xx-aa)/(bb-aa)*(xx-m)/(bb-m)\n",
    "            P=f(aa)*l0+f(m)*l1+f(bb)*l2\n",
    "            plt.plot(xx,P,'b')\n",
    "            plt.plot(m,f(m),\"r*\")\n",
    "    \n",
    "        yflist_fine=f(xlist_fine)\n",
    "        plt.plot (xlist_fine,yflist_fine,'g' )\n",
    "        plt.plot (xl,yl,'bo' )\n",
    "        plt.ylabel ( 'f(x)' )\n",
    "        plt.title ( ' Méthode de Simpson' )\n",
    "        plt.text( 0.5*( self.a+ self.b ) , f(self.b ) , 'I_{} ={:0.8f}'.format(self.n,self.integrate( f ) ) , fontsize =15 )"
   ]
  },
  {
   "cell_type": "code",
   "execution_count": 15,
   "id": "cf2eb349",
   "metadata": {},
   "outputs": [
    {
     "data": {
      "application/vnd.jupyter.widget-view+json": {
       "model_id": "61376d89f421457b8cc232d70525a128",
       "version_major": 2,
       "version_minor": 0
      },
      "text/plain": [
       "interactive(children=(Dropdown(description='methode', options=('Rectangle', 'Milieu', 'Trapèze', 'simpson'), v…"
      ]
     },
     "metadata": {},
     "output_type": "display_data"
    }
   ],
   "source": [
    "@interact(methode=['Rectangle','Milieu','Trapèze','simpson'],\n",
    "          a=-np.pi,b=np.pi,\n",
    "          n=[5,25,50],\n",
    "          f={'f1(x)=cos(x)':lambda x:np.cos(x),'f2(x)=sin(x)':lambda x:np.sin(x),'f3(x)=x**2-x+5':lambda x:x**2-x+5,'f4(x)=1/(1+x**2)':lambda x:1/(1+x**2)})\n",
    "def test(methode,a,b,n,f):\n",
    "    I = quad(f, a, b)[0]\n",
    "    meth={'Rectangle':RectangleG,'Milieu':PointMilieu,'Trapèze':Trapezoidal,'simpson':Simpson}\n",
    "    M=meth[methode](a,b,n,f)\n",
    "    print(\"l'intégrale avec la méthode {}= {}\".format(methode,M.integrate(f)))\n",
    "    print(\"l'erreur d'intégration = {}\".format(I-M.integrate(f)))\n",
    "    M.Graph(f)\n",
    "    plt.show()"
   ]
  },
  {
   "cell_type": "markdown",
   "id": "cc36bb7c",
   "metadata": {},
   "source": [
    "<h2 style=\"color:green;\">Résumé :</h2>"
   ]
  },
  {
   "cell_type": "markdown",
   "id": "2b4e488c",
   "metadata": {},
   "source": [
    "* Nous concluons qu'avec chaque incrément de n dans les différentes méthodes, la méthode devient plus précise et l'erreur d'intégration diminue (devient plus petit).\n",
    "* Nous concluons aussi que la méthode de simpson est plus précise par rapport à la méthode de trapèze, rectangle et point milieu."
   ]
  },
  {
   "cell_type": "code",
   "execution_count": null,
   "id": "dbed918d",
   "metadata": {},
   "outputs": [],
   "source": []
  }
 ],
 "metadata": {
  "kernelspec": {
   "display_name": "Python 3",
   "language": "python",
   "name": "python3"
  },
  "language_info": {
   "codemirror_mode": {
    "name": "ipython",
    "version": 3
   },
   "file_extension": ".py",
   "mimetype": "text/x-python",
   "name": "python",
   "nbconvert_exporter": "python",
   "pygments_lexer": "ipython3",
   "version": "3.8.8"
  }
 },
 "nbformat": 4,
 "nbformat_minor": 5
}
