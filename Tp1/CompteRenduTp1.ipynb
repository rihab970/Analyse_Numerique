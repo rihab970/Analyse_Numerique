{
 "cells": [
  {
   "cell_type": "markdown",
   "id": "1e5a60b7",
   "metadata": {},
   "source": [
    "<img src=\"isitcom.PNG\"/>"
   ]
  },
  {
   "cell_type": "markdown",
   "id": "54470cad",
   "metadata": {},
   "source": [
    "<h1 style=\"color:red; text-align: center;\">Compte rendu Tp1 </h1>"
   ]
  },
  {
   "cell_type": "markdown",
   "id": "b3f0d856",
   "metadata": {},
   "source": [
    "<h3 style=\"text-align: center;\">Rréalisé par : Rihab Mribah </h3>"
   ]
  },
  {
   "cell_type": "markdown",
   "id": "864c26ed",
   "metadata": {},
   "source": [
    "<h2 style=\"color:green;\">Partie Théorique </h2>"
   ]
  },
  {
   "cell_type": "markdown",
   "id": "53d9ccb5",
   "metadata": {},
   "source": [
    "<p> Pour construire la suite $(x_n)$ se dispose de<b> 3 méthodes</b> pour contruire :<br/>\n",
    "   - la méthode de la dichotomie (ou bissection) <br/>\n",
    "   - la méthode de point fixe<br/>\n",
    "   - la méthode de Newton<br/>\n",
    "</p>"
   ]
  },
  {
   "cell_type": "markdown",
   "id": "ae3bd365",
   "metadata": {},
   "source": [
    "<h3 style=\"color:#1CBCC9;\">Principe de la méthode de dichotomie ( ou bisection ) : </h3>"
   ]
  },
  {
   "cell_type": "markdown",
   "id": "e792384b",
   "metadata": {},
   "source": [
    "Considérons une fonction f continue sur un intervalle [a,b]. On suppose que f admet\n",
    "une et une seule racine α dans ]a, b[  ($f(α)=0)$ et que $f(a)*f(b) < 0$. On note\n",
    "$x_0=\\frac{a+b}{2}$\n",
    "le milieu de l’intervalle.\n",
    "- (1) Si $f(x_0) = 0$, alors $α=x_0$ et le problème est résolu.\n",
    "- (2) Si $f(x_0) \\neq 0$, alors nous regardons le signe de $f(a)* f(x_0)$.\n",
    "\n",
    " $$ \\circ \\hspace{0.5cm} Si \\hspace{0.5cm} f(a)*f(x_0) < 0 \\Longrightarrow\tα\\in ]a, x_0[$$ \n",
    " <br/> on prend $a_1=a$ et $b_1=x_0$\n",
    " $$ \\circ \\hspace{0.5cm} Si \\hspace{0.5cm} f(a)* f(x_0) > 0 \\Longrightarrow\tα\\in]x_0, b[$$\n",
    "  <br/> on prend $a_1=x_0$ et $b_1=b$\n",
    "\n",
    "On recommence le processus en prenant l’intervalle $[a, x_0]$ au lieu de [a, b] dans le premier cas, et\n",
    "l’intervalle $[x_0, b]$ au lieu de [a, b] dans le second cas. De cette manière, on construit par récurrence\n",
    "sur n trois suites $(a_n)$, $(b_n)$ et $(x_n)$ telles que $a_0 = a$, $b_0 = b$ et telles que pour tout n ≥ 0,\n",
    "$$(1)\\hspace{0.5cm} x_n=\\frac{a_n+b_n}{2}$$\n",
    "\n",
    "$$(2) \\hspace{0.5cm} Si \\hspace{0.5cm} f(x_n)* f(a_n) < 0 \\Longrightarrow a_{n+1} = a_n \\hspace{0.3cm}et \\hspace{0.3cm} b_{n+1} = x_n.$$\n",
    "$$(3) \\hspace{0.5cm} Si \\hspace{0.5cm} f(x_n)* f(a_n) > 0 \\Longrightarrow a_{n+1} = x_n \\hspace{0.3cm}et \\hspace{0.3cm} b_{n+1} = b_n.$$\n",
    "\n",
    "On a toujours une solution à l'équation $f(x)=0$ dans l'intervalle $[a_n,b_n]$, qui est de longueur $\\frac{b_n+a_n}{2^n}$"
   ]
  },
  {
   "cell_type": "markdown",
   "id": "6d79ef78",
   "metadata": {},
   "source": [
    "<h3 style=\"color:#1CBCC9;\">Principe de la méthode de point fixe : </h3>"
   ]
  },
  {
   "cell_type": "markdown",
   "id": "aa0c8d36",
   "metadata": {},
   "source": [
    "Le principe de cette méthode consiste à transformer l’équation $f(x) = 0$ en une équation équivalente $g(x) = x$ . Le point α est alors un point fixe de g. Approcher les zéros de f revient à approcher les points fixes de g. \n",
    "Le choix de la fonction g est motivé par les exigences du théorème de point fixe. En effet, elle doit être contractante dans un voisinage I de α, ce qui revient à vérifier que :\n",
    "$|g_0(x)| < 1$ sur ce voisinage. Dans ce cas, on construit une suite $(x_n)$ $n \\in \\mathbb{N}$ définie par :\n",
    "\n",
    "   $$\\left \\{\n",
    "   \\begin{array}{r c l}\n",
    "      x_0 \\hspace{0.2cm}dans\\hspace{0.2cm} un\\hspace{0.2cm} voisinage \\hspace{0.2cm}I\\hspace{0.2cm}de\\hspace{0.2cm}α \\\\\n",
    "      ∀ n ≥ 0,\\hspace{0.3cm} x_{n+1} = g(x_n) \n",
    "   \\end{array}\n",
    "   \\right. $$"
   ]
  },
  {
   "cell_type": "markdown",
   "id": "339b9e91",
   "metadata": {},
   "source": [
    "<h3 style=\"color:#1CBCC9;\">Principe de la méthode de Newton : </h3>"
   ]
  },
  {
   "cell_type": "markdown",
   "id": "ef878820",
   "metadata": {},
   "source": [
    "On part d'un point $x_0$ de l'intervalle de définition de f, et on considère la tangente à la courbe représentative de f en $(x_0,f(x_0))$. Soit $x_1$ l'abscisse de l'intersection de la tangente avec l'axe des abscisses. Puisque la tangente est proche de la courbe, on peut espérer que $x_1$ donne une meilleure estimation d'une solution de l'équation f(x)=0 que $x_0$. On recommence alors le procédé à partir de $x_1$, et on construit par récurrence une suite $(x_n)$ définie par :\n",
    "$$x_{n+1}=x_n-(f(x_n)/f'(x_n))$$\n",
    "Soit $g(x)=x-(\\frac{f(x)}{f'(x)}) \\Longrightarrow x_{n+1}= g(x_n)$"
   ]
  },
  {
   "cell_type": "markdown",
   "id": "4d256ca3",
   "metadata": {},
   "source": [
    "<h2 style=\"color:green;\">Partie Pratique </h2>"
   ]
  },
  {
   "cell_type": "markdown",
   "id": "c6a52607",
   "metadata": {},
   "source": [
    "## <p>Exercice 1 :</p> \n",
    "\n",
    ">On considère le polynôme $p(x) = (x - 1)^6$. \n",
    ">\n",
    ">En développant on\n",
    ">peut écrire ce même polynôme sous la forme\n",
    ">$f(x) = x^6 - 6x^5 + 15x^4 - 20x^3 + 15x^2 - 6x + 1.$\n",
    ">\n",
    ">1) Avec Python évaluer $p(x)$ et $f(x)$ pour $x$ allant de $.998$ à\n",
    ">$1.002$ en choisissant des pas de $.0001$.\n",
    ">\n",
    ">2) Faire un graphique de $f(x)$ et $p(x)$. Commenter."
   ]
  },
  {
   "cell_type": "markdown",
   "id": "186c6545",
   "metadata": {},
   "source": [
    "## <p style=\"color:red\">Correction :</p>"
   ]
  },
  {
   "cell_type": "markdown",
   "id": "b73883e2",
   "metadata": {},
   "source": [
    ">#### 1)\n",
    ">On a la fonction $p$ définie par  $$p: x\\to (x-1)^6$$\n",
    "       et la fonction $f$ définie par $$f:x\\to x^6 - 6x^5 + 15x^4 - 20x^3 + 15x^2 - 6x + 1$$"
   ]
  },
  {
   "cell_type": "code",
   "execution_count": 11,
   "id": "646fbf23",
   "metadata": {},
   "outputs": [],
   "source": [
    "def p(x):\n",
    "    return (x-1)**6 \n",
    "def f(x):\n",
    "    return x**6 - 6*x**5 + 15*x**4 - 20*x**3 + 15*x**2 - 6*x + 1"
   ]
  },
  {
   "cell_type": "code",
   "execution_count": 12,
   "id": "362b9b98",
   "metadata": {},
   "outputs": [
    {
     "name": "stdout",
     "output_type": "stream",
     "text": [
      "si x=0.998\n",
      "\n",
      "p(0.998)=6.400000000000034e-17 \n",
      "f(0.998)=1.7763568394002505e-15 \n"
     ]
    }
   ],
   "source": [
    "print('si x=0.998')\n",
    "print('')\n",
    "print('p({})={} '.format(0.998,p(0.998)))\n",
    "print('f({})={} '.format(0.998,f(0.998)))"
   ]
  },
  {
   "cell_type": "markdown",
   "id": "266c46b6",
   "metadata": {},
   "source": [
    "## Remarque : "
   ]
  },
  {
   "cell_type": "markdown",
   "id": "2375c62c",
   "metadata": {},
   "source": [
    " <p> on remarque que pour x=0.998 , la fonction f est 100 fois plus grande que la fonction p.<br/> \n",
    "si on calcul la nombre d'opérations on remarque que f fait pratiquement 26 opérations alors que p fait 11 opérations donc on constante une délacalage dans le résultat . \n",
    "<br/>Donc la factorisation d'un polynome ne donne jamais une vrai précision.</p>"
   ]
  },
  {
   "cell_type": "markdown",
   "id": "eb6ff367",
   "metadata": {},
   "source": [
    "## Fonction de Horner :"
   ]
  },
  {
   "cell_type": "code",
   "execution_count": 13,
   "id": "a94bf870",
   "metadata": {},
   "outputs": [
    {
     "name": "stdout",
     "output_type": "stream",
     "text": [
      "Requirement already satisfied: numpy in c:\\users\\riheb2018\\anaconda3\\lib\\site-packages (1.20.1)\n"
     ]
    }
   ],
   "source": [
    "import sys\n",
    "!{sys.executable} -m pip install numpy"
   ]
  },
  {
   "cell_type": "code",
   "execution_count": 14,
   "id": "2126254a",
   "metadata": {},
   "outputs": [],
   "source": [
    "def Horner(T,Z):\n",
    "    n=len(T)\n",
    "    result=T[0]\n",
    "    for i in T[1:]:\n",
    "        result=result*Z+i\n",
    "        \n",
    "    return result"
   ]
  },
  {
   "cell_type": "code",
   "execution_count": 5,
   "id": "43dd54d3",
   "metadata": {},
   "outputs": [],
   "source": [
    "def p(x):\n",
    "    return (x-1)**6\n",
    "def F(x):\n",
    "    return x**6-6*x**5+15*x**4-20*x**3+15*x**2-6*x+1"
   ]
  },
  {
   "cell_type": "code",
   "execution_count": 6,
   "id": "581c4434",
   "metadata": {},
   "outputs": [
    {
     "name": "stdout",
     "output_type": "stream",
     "text": [
      "-1.3322676295501878e-15\n",
      "7.771561172376096e-16\n",
      "-1.1102230246251565e-15\n",
      "-6.661338147750939e-16\n",
      "1.1102230246251565e-15\n",
      "-8.881784197001252e-16\n",
      "7.771561172376096e-16\n",
      "-1.7763568394002505e-15\n",
      "2.3314683517128287e-15\n",
      "2.220446049250313e-16\n",
      "4.440892098500626e-16\n",
      "1.3322676295501878e-15\n",
      "7.771561172376096e-16\n",
      "-4.440892098500626e-16\n",
      "-1.3322676295501878e-15\n",
      "-1.7763568394002505e-15\n",
      "-2.220446049250313e-16\n",
      "-8.881784197001252e-16\n",
      "0.0\n",
      "5.551115123125783e-16\n",
      "-6.661338147750939e-16\n",
      "2.220446049250313e-16\n",
      "5.551115123125783e-16\n",
      "-8.881784197001252e-16\n",
      "4.440892098500626e-16\n",
      "-1.3322676295501878e-15\n",
      "5.551115123125783e-16\n",
      "3.3306690738754696e-16\n",
      "5.551115123125783e-16\n",
      "-2.220446049250313e-15\n",
      "4.440892098500626e-16\n",
      "-2.220446049250313e-15\n",
      "2.55351295663786e-15\n",
      "8.881784197001252e-16\n",
      "0.0\n",
      "-8.881784197001252e-16\n",
      "1.4432899320127035e-15\n",
      "1.9984014443252818e-15\n",
      "-1.9984014443252818e-15\n",
      "-1.1102230246251565e-15\n",
      "6.661338147750939e-16\n"
     ]
    }
   ],
   "source": [
    "import numpy as np\n",
    "T=[1,-6,15,-20,15,-6,1]\n",
    "X=np.arange(0.998,1.002,0.0001)\n",
    "ff=[]\n",
    "pp=[]\n",
    "for i in X:\n",
    "    f=(Horner(T,i))\n",
    "    pp.append(p(i))\n",
    "    ff.append(F(i))\n",
    "    print(f)"
   ]
  },
  {
   "cell_type": "markdown",
   "id": "67799942",
   "metadata": {},
   "source": [
    "<h3>Conclusion</h3>"
   ]
  },
  {
   "cell_type": "markdown",
   "id": "deef0fd9",
   "metadata": {},
   "source": [
    "<p > on trouve des valeurs différents dans les 3 exécutions (réduite, développé,horner). mais on remarque que<b> Horner est beaucoup plus précis</b> que les autres. </p>"
   ]
  },
  {
   "cell_type": "markdown",
   "id": "36be53bc",
   "metadata": {},
   "source": [
    ">#### 2)\n",
    ">graphique de $f(x)$ et $p(x)$ :"
   ]
  },
  {
   "cell_type": "code",
   "execution_count": 16,
   "id": "dacc5d0b",
   "metadata": {},
   "outputs": [
    {
     "data": {
      "image/png": "[encoded data removed]",
      "text/plain": [
       "<Figure size 648x504 with 1 Axes>"
      ]
     },
     "metadata": {
      "needs_background": "light"
     },
     "output_type": "display_data"
    }
   ],
   "source": [
    "import matplotlib.pyplot as plt\n",
    "import numpy as np\n",
    "\n",
    "'x=np.linspace(0.998, 1.002,100)'\n",
    "x = np.arange(0.998, 1.002, 0.0001) \n",
    "p = lambda x:(x-1)**6 \n",
    "fig = plt.figure(1, figsize=(9, 7))\n",
    "plt.plot(x,p(x))\n",
    "\n",
    "f = lambda x: x**6 - 6*x**5 + 15*x**4 - 20*x**3 + 15*x**2 - 6*x + 1\n",
    "plt.plot(x,f(x))\n",
    "plt.xlabel('x')\n",
    "plt.ylabel('f(x)')\n",
    "plt.title('Solution dans [0.998:0.0001:1.002] ')\n",
    "plt.grid(True)   \n",
    "plt.show()"
   ]
  },
  {
   "cell_type": "markdown",
   "id": "2f80d9c1",
   "metadata": {},
   "source": [
    "<strong>==> On obtient deux courbes différents </strong>"
   ]
  },
  {
   "cell_type": "markdown",
   "id": "4943f735",
   "metadata": {},
   "source": [
    "## <p>Exercice 2 :</p> \n",
    ">On considère l'équation : $$ f(x)=x^3+x^2-3x-3=0$$\n",
    ">\n",
    ">1) Dessiner la courbe de $f$ dans l'intervalle $[-2;2]$, puis trouver des intervalles convenables pour appliquer la méthode de bisection.\n",
    ">\n",
    ">2) Utiliser un programme `dicho.m` qui permettra de trouver les solutions de l'équation $f(x)=0$ avec $eps=0.001$.\n",
    ">\n",
    ">3) Modifier le programme `dicho.m` pour qu'il donne le nombre d'itération nécessaire pour avoir la solution à $eps$ près."
   ]
  },
  {
   "cell_type": "markdown",
   "id": "b2f6fc10",
   "metadata": {},
   "source": [
    "## <p style=\"color:red\">Correction :</p>"
   ]
  },
  {
   "cell_type": "markdown",
   "id": "e38949ca",
   "metadata": {},
   "source": [
    "<h3>1)</h3>"
   ]
  },
  {
   "cell_type": "code",
   "execution_count": 1,
   "id": "70cc2484",
   "metadata": {},
   "outputs": [
    {
     "data": {
      "text/plain": [
       "[<matplotlib.lines.Line2D at 0x21d99c97a00>]"
      ]
     },
     "execution_count": 1,
     "metadata": {},
     "output_type": "execute_result"
    },
    {
     "data": {
      "image/png": "[encoded data removed]",
      "text/plain": [
       "<Figure size 648x504 with 1 Axes>"
      ]
     },
     "metadata": {
      "needs_background": "light"
     },
     "output_type": "display_data"
    }
   ],
   "source": [
    "import matplotlib.pyplot as plt\n",
    "from numpy import linspace\n",
    "f=lambda x: x**3+x**2-3*x-3\n",
    "T=linspace(-2,2,100)\n",
    "fig = plt.figure(1, figsize=(9, 7))\n",
    "plt.title(\"solution dans [-2:2] \");\n",
    "plt.xlabel(\"x\")\n",
    "plt.ylabel (\"f(x)\")\n",
    "plt.grid(True)\n",
    "plt.plot(T,f(T))\n"
   ]
  },
  {
   "cell_type": "markdown",
   "id": "e0d1c1e6",
   "metadata": {},
   "source": [
    "<h3 style=\"color:green;\">Conclusion</h3>"
   ]
  },
  {
   "cell_type": "markdown",
   "id": "0705fea9",
   "metadata": {},
   "source": [
    "<p>Daprés le graphe de $f$ il existe <b>3 solutions</b> :</p>\n",
    "<br/>- $\\alpha_1 \\in ]-2;-1.5[$ \n",
    "<br/>- $\\alpha_2 \\in ]-1.5;-0.5[$ \n",
    "<br/>- $\\alpha_3 \\in ]1.5;2[$ "
   ]
  },
  {
   "cell_type": "markdown",
   "id": "154faf2c",
   "metadata": {},
   "source": [
    "<h3>2)</h3>"
   ]
  },
  {
   "cell_type": "markdown",
   "id": "3ff1e604",
   "metadata": {},
   "source": [
    "<p>--> le programme <b>dicho.m</b> qui permettra de trouver les solutions de l'équation  𝑓(𝑥)=0  avec  𝑒𝑝𝑠=0.001 .</p>"
   ]
  },
  {
   "cell_type": "code",
   "execution_count": 3,
   "id": "43e26c78",
   "metadata": {},
   "outputs": [],
   "source": [
    "def dicho(a,b,f,eps):\n",
    "    \n",
    "    while (b-a)>eps:\n",
    "        m=(a+b)/2\n",
    "        if f(m)==0:\n",
    "            return m\n",
    "        if f(a)*f(m)<0 :\n",
    "            b=m\n",
    "        else :\n",
    "            a=m\n",
    "    return m"
   ]
  },
  {
   "cell_type": "code",
   "execution_count": 16,
   "id": "240938ea",
   "metadata": {},
   "outputs": [
    {
     "data": {
      "text/plain": [
       "1.7314453125"
      ]
     },
     "execution_count": 16,
     "metadata": {},
     "output_type": "execute_result"
    }
   ],
   "source": [
    "f=lambda x: x**3+x**2-3*x-3\n",
    "dicho(1.5,2,f,0.001)"
   ]
  },
  {
   "cell_type": "markdown",
   "id": "fd048e64",
   "metadata": {},
   "source": [
    "<h3>3)</h3>"
   ]
  },
  {
   "cell_type": "code",
   "execution_count": 7,
   "id": "0a4a806b",
   "metadata": {},
   "outputs": [],
   "source": [
    "def dichow(a,b,f,eps):\n",
    "    cp=0\n",
    "    while (b-a)>eps:\n",
    "        m=(a+b)/2\n",
    "        if f(m)==0:\n",
    "            return m\n",
    "        if f(a)*f(m)<0 :\n",
    "            b=m\n",
    "        else :\n",
    "            a=m\n",
    "        cp+=1\n",
    "    return m,cp"
   ]
  },
  {
   "cell_type": "code",
   "execution_count": 10,
   "id": "4d76caec",
   "metadata": {},
   "outputs": [
    {
     "data": {
      "text/plain": [
       "(-1.7314453125, 9)"
      ]
     },
     "execution_count": 10,
     "metadata": {},
     "output_type": "execute_result"
    }
   ],
   "source": [
    "f=lambda x: x**3+x**2-3*x-3\n",
    "dichow(-2,-1.5,f,0.001)"
   ]
  },
  {
   "cell_type": "markdown",
   "id": "d984cdbd",
   "metadata": {},
   "source": [
    "<strong>Le nombre d'itération N nécéssaire à la méthode de la dichotomie pour trouver $\\alpha$ à $10^{-k}$ prés </strong>\n",
    "\n",
    "$$N \\geq E\\left(\\dfrac{\\ln(b-a)+k\\ln(10)}{\\ln(2)}\\right)+1$$"
   ]
  },
  {
   "cell_type": "markdown",
   "id": "c4c9fa55",
   "metadata": {},
   "source": [
    "## Méthode graphique pour la recherche de la solution "
   ]
  },
  {
   "cell_type": "code",
   "execution_count": 15,
   "id": "383ebd9c",
   "metadata": {},
   "outputs": [
    {
     "data": {
      "image/png": "[encoded data removed]",
      "text/plain": [
       "<Figure size 432x288 with 4 Axes>"
      ]
     },
     "metadata": {
      "needs_background": "light"
     },
     "output_type": "display_data"
    }
   ],
   "source": [
    "%matplotlib inline\n",
    "#import mpld3\n",
    "#mpld3.enable_notebook()\n",
    "import numpy as np \n",
    "import matplotlib.pyplot as plt\n",
    "\n",
    "f=lambda x:x**3+x**2-3*x-3\n",
    "\n",
    "t=np.linspace(1.7,1.75,100)\n",
    "plt.subplot(2,2,1)\n",
    "plt.plot(t,f(t),'r')\n",
    "plt.grid(True)\n",
    "##########################################\n",
    "t=np.linspace(1.2,1.4,100)\n",
    "plt.subplot(2,2,2)\n",
    "plt.plot(t,f(t),'r')\n",
    "plt.grid(True)\n",
    "##########################################\n",
    "t=np.linspace(1.35,1.4,100)\n",
    "plt.subplot(2,2,3)\n",
    "plt.plot(t,f(t),'r')\n",
    "plt.grid(True)\n",
    "#########################################\n",
    "t=np.linspace(1.365,1.367,100)\n",
    "plt.subplot(2,2,4)\n",
    "plt.plot(t,f(t),'r')\n",
    "plt.grid(True)"
   ]
  },
  {
   "cell_type": "markdown",
   "id": "ffee1399",
   "metadata": {},
   "source": [
    "<h3 style=\"color:green;\">Conclusion</h3>"
   ]
  },
  {
   "cell_type": "markdown",
   "id": "69546506",
   "metadata": {},
   "source": [
    "<p><b>La méthode de dichotomie</b> est trés simple , posséd un vitesse de convergence constante et on peut calculer le nombre d'itérations facilement si on connait epsilon mais l'inconvénient est que son vitesse est trés lente ( ordre de convergence = 1) </p>\n",
    "<p style=\"color:red\"><strong>Donc on'a besion des autres méthodes plus rapide comme la méthode de point fixe</strong></p> "
   ]
  },
  {
   "cell_type": "markdown",
   "id": "975be93d",
   "metadata": {},
   "source": [
    "## <p>Exercice 3 :</p> \n",
    ">On considère l'équation : $$ f(x)=x^3+4x^2-10=0$$\n",
    ">1) Dessiner la courbe de $f$ dans l'intervalle $[1;2]$, puis trouver une valeur approché de la solution à 0.001 près (En >utilisant la fonction zoom du graphique).\n",
    ">\n",
    ">2) Vérifier que cette équation est équivalente aux 3 schéma du point fixe suivant:\n",
    ">\n",
    ">a) $g_1(x)=\\frac{1}{2}\\sqrt{10-x^3}=x$.\n",
    ">\n",
    ">b) $g_2(x)=\\sqrt{\\displaystyle\\frac{10}{4+x}}=x$.\n",
    ">\n",
    ">c) $g_3(x)=x-x^3-4x^2+10=x$.\n",
    ">\n",
    ">3) Ecrire puis appliquer  une fonction Matlab que l'on appellera  `pointfixe.m` aux trois schémas précédents en prenant >`x0=1.5;eps=0.001`.\n",
    ">\n",
    ">4) Quelle est la fonction (parmi $g_1, g_2$ et $g_3$) qui donne la convergence la plus rapide?\n",
    ">"
   ]
  },
  {
   "cell_type": "markdown",
   "id": "304b2207",
   "metadata": {},
   "source": [
    "## <p style=\"color:red\">Correction :</p>"
   ]
  },
  {
   "cell_type": "markdown",
   "id": "574672f5",
   "metadata": {},
   "source": [
    "<h3>1)</h3>"
   ]
  },
  {
   "cell_type": "code",
   "execution_count": 18,
   "id": "4bb92055",
   "metadata": {},
   "outputs": [
    {
     "data": {
      "image/png": "[encoded data removed]",
      "text/plain": [
       "<Figure size 432x288 with 4 Axes>"
      ]
     },
     "metadata": {
      "needs_background": "light"
     },
     "output_type": "display_data"
    }
   ],
   "source": [
    "%matplotlib inline\n",
    "#import mpld3\n",
    "#mpld3.enable_notebook()\n",
    "import numpy as np \n",
    "import matplotlib.pyplot as plt\n",
    "\n",
    "f=lambda x:x**3+4*x**2-10\n",
    "\n",
    "t=np.linspace(1,2,100)\n",
    "plt.subplot(2,2,1)\n",
    "plt.plot(t,f(t),'r')\n",
    "plt.grid(True)\n",
    "##########################################\n",
    "t=np.linspace(1.2,1.4,100)\n",
    "plt.subplot(2,2,2)\n",
    "plt.plot(t,f(t),'r')\n",
    "plt.grid(True)\n",
    "##########################################\n",
    "t=np.linspace(1.35,1.4,100)\n",
    "plt.subplot(2,2,3)\n",
    "plt.plot(t,f(t),'r')\n",
    "plt.grid(True)\n",
    "#########################################\n",
    "t=np.linspace(1.365,1.367,100)\n",
    "plt.subplot(2,2,4)\n",
    "plt.plot(t,f(t),'r')\n",
    "plt.grid(True)"
   ]
  },
  {
   "cell_type": "markdown",
   "id": "7f32d8ad",
   "metadata": {},
   "source": [
    "<h3>2)</h3>"
   ]
  },
  {
   "cell_type": "markdown",
   "id": "ca8a7111",
   "metadata": {},
   "source": [
    "On considère l'équation : $$ f(x)=x^3+4x^2-10=0$$\n",
    "\n",
    "a) $g(x)=\\frac{1}{2}\\sqrt{10-x^3}=x$."
   ]
  },
  {
   "cell_type": "markdown",
   "id": "cb1116ed",
   "metadata": {},
   "source": [
    "$$x^3+4x^2-10=0$$ \n",
    "    \n",
    " $$4x^2=10-x^3$$\n",
    " \n",
    " $$2x=\\sqrt{10-x^3}$$\n",
    " \n",
    " $$x=\\frac{1}{2}\\sqrt{10-x^3}$$\n",
    " \n",
    "Donc $ f(x)=g(x)$"
   ]
  },
  {
   "cell_type": "markdown",
   "id": "37cddd21",
   "metadata": {},
   "source": [
    "b) $g(x)=\\sqrt{\\displaystyle\\frac{10}{4+x}}=x$."
   ]
  },
  {
   "cell_type": "markdown",
   "id": "887346ad",
   "metadata": {},
   "source": [
    "$$x^3+4x^2-10=0$$\n",
    "$$x^3+4x^2=10$$\n",
    "$$x^2(x+4)=10$$\n",
    "$$x^2=\\frac{10}{x+4}$$\n",
    "$$x=\\sqrt{\\displaystyle\\frac{10}{4+x}}$$\n",
    "Donc $ f(x)=g(x)$"
   ]
  },
  {
   "cell_type": "markdown",
   "id": "1d9e1fec",
   "metadata": {},
   "source": [
    "c) $g(x)=x-x^3-4x^2+10=x$."
   ]
  },
  {
   "cell_type": "markdown",
   "id": "2c2f1bc3",
   "metadata": {},
   "source": [
    "$$x^3+4x^2-10=0$$\n",
    "$$x^3+4x^2-10+x-x=0$$\n",
    "$$x^3-4x^2+x-x=10$$\n",
    "$$x^3-4x^2+x=x+10$$\n",
    "$$4x^2+x=x-x^3+10$$\n",
    "$$x=x-x^3-4x^2+10$$\n",
    "Donc $ f(x)=g(x)$"
   ]
  },
  {
   "cell_type": "markdown",
   "id": "bd41397b",
   "metadata": {},
   "source": [
    "<h3>3)</h3>"
   ]
  },
  {
   "cell_type": "code",
   "execution_count": 19,
   "id": "5b6c0723",
   "metadata": {},
   "outputs": [],
   "source": [
    "from sympy import *\n",
    "f=lambda x:  x**3+4*x**2-10 # la fonction f\n",
    "g1=lambda x: 1/2*sqrt(10-x**3)\n",
    "g2=lambda x: sqrt(10/(x+4))\n",
    "g3=lambda x: x-x**3-4*x**2 + 10\n",
    "\n",
    "\n",
    "def ptfixe(g,x0,eps,nmax):\n",
    "    zero=x0\n",
    "    for i in range(nmax):\n",
    "        x=zero \n",
    "        zero=g(x)\n",
    "        erreur=abs(zero-x)\n",
    "        print(zero)\n",
    "        if erreur<eps:\n",
    "            return zero,i\n",
    "    print('pas de convergence avec le nombre d''iteration indique')"
   ]
  },
  {
   "cell_type": "code",
   "execution_count": 20,
   "id": "768a2483",
   "metadata": {},
   "outputs": [
    {
     "name": "stdout",
     "output_type": "stream",
     "text": [
      "1.34839972492648\n",
      "1.36737637199128\n",
      "1.36495701540249\n",
      "1.36526474811344\n"
     ]
    },
    {
     "data": {
      "text/plain": [
       "(1.36526474811344, 3)"
      ]
     },
     "execution_count": 20,
     "metadata": {},
     "output_type": "execute_result"
    }
   ],
   "source": [
    "ptfixe(g2,1.5,0.001,50)"
   ]
  },
  {
   "cell_type": "code",
   "execution_count": 21,
   "id": "b6718a65",
   "metadata": {},
   "outputs": [
    {
     "name": "stdout",
     "output_type": "stream",
     "text": [
      "1.28695376762338\n",
      "1.40254080353958\n",
      "1.34545837402329\n",
      "1.37517025281604\n",
      "1.36009419276173\n",
      "1.36784696759213\n",
      "1.36388700388402\n",
      "1.36591673339004\n",
      "1.36487821719368\n",
      "1.36541006116996\n"
     ]
    },
    {
     "data": {
      "text/plain": [
       "(1.36541006116996, 9)"
      ]
     },
     "execution_count": 21,
     "metadata": {},
     "output_type": "execute_result"
    }
   ],
   "source": [
    "ptfixe(g1,1.5,0.001,50)"
   ]
  },
  {
   "cell_type": "code",
   "execution_count": 22,
   "id": "786e4e59",
   "metadata": {},
   "outputs": [
    {
     "name": "stdout",
     "output_type": "stream",
     "text": [
      "-0.875\n",
      "6.732421875\n",
      "-469.72001200169325\n",
      "102754555.18738511\n",
      "-1.0849338705317464e+24\n",
      "pas de convergence avec le nombre diteration indique\n"
     ]
    }
   ],
   "source": [
    "ptfixe(g3,1.5,0.001,5)"
   ]
  },
  {
   "cell_type": "markdown",
   "id": "ea94a269",
   "metadata": {},
   "source": [
    "#### La fonction qui donne la convergence la plus rapide est  $g_2$ \n",
    "+ $g_2$ donne le resultat en 4 itérations seulement alors que\n",
    "+ $g_1$ donne le resultat en 10 itérations  \n",
    "+ $g_3$ n'est pas convergente"
   ]
  },
  {
   "cell_type": "markdown",
   "id": "f07adc61",
   "metadata": {},
   "source": [
    "<h3 style=\"color:green;\">Conclusion</h3>"
   ]
  },
  {
   "cell_type": "markdown",
   "id": "0212f4bb",
   "metadata": {},
   "source": [
    "-> Il faut bien choisir g  pour avoir la meilleur fonction qui donne la convergence la plus rapide .\n",
    "\n",
    "<strong style=\"color:red\">Inconvénients :</strong>\n",
    "* convergence souvent diffcile à réaliser en pratique\n",
    "* certains points fixes -dits instables- ne peuvent être atteints\n",
    "* convergence lente de type linéaire, puisque l’erreur évolue ”linéairement” et non ”quadratiquement”.\n",
    "\n",
    "<p><strong>==> Il existe des méthodes plus efficaces que le point fixe on parle de plus connue c'est la méthode de Newton qui permet de rechercher pratiquement les solutions d'une équation f(x)=0. </strong></p> \n"
   ]
  },
  {
   "cell_type": "markdown",
   "id": "2266beeb",
   "metadata": {},
   "source": [
    "## <p>Exercice 4 :</p> \n",
    ">1) On considère la fonction $f(x)=e^{-x}-x$. Ecrire puis appliquer  une fonction python  à la fonction $f$, en prenant $x0=0$, $eps=0.001$ .\n",
    ">\n",
    ">2) Montrer que l'équation $f(x)=0$ admet une solution unique que l'on peut obtenir en utilisant la méthode de Newton à partir de $x0=1$."
   ]
  },
  {
   "cell_type": "markdown",
   "id": "9c4ae01c",
   "metadata": {},
   "source": [
    "## <p style=\"color:red\">Correction :</p>\n",
    "<h3>1)</h3>"
   ]
  },
  {
   "cell_type": "code",
   "execution_count": 23,
   "id": "0c32a061",
   "metadata": {},
   "outputs": [],
   "source": [
    "def newton(f,fprime,a,eps):\n",
    "    x1=a\n",
    "    x2=x1-(f(x1)/fprime(x1))\n",
    "    while abs(x1-x2)>eps :\n",
    "        x1=x2\n",
    "        x2=x1-(f(x1)/fprime(x1))\n",
    "        m=x2\n",
    "    return m"
   ]
  },
  {
   "cell_type": "code",
   "execution_count": 24,
   "id": "70dd2777",
   "metadata": {},
   "outputs": [
    {
     "data": {
      "text/plain": [
       "0.5671431650348622"
      ]
     },
     "execution_count": 24,
     "metadata": {},
     "output_type": "execute_result"
    }
   ],
   "source": [
    "import math\n",
    "from sympy import *\n",
    "from sympy.abc import x\n",
    "\n",
    "f=lambda x: math.exp(-x)-x\n",
    "fprime=lambda x: -math.exp(-x)-1\n",
    "newton(f,fprime,0,0.001)"
   ]
  },
  {
   "cell_type": "markdown",
   "id": "27e4d6bf",
   "metadata": {},
   "source": [
    "<h3>2)</h3>"
   ]
  },
  {
   "cell_type": "code",
   "execution_count": 25,
   "id": "e6f6de13",
   "metadata": {},
   "outputs": [
    {
     "data": {
      "text/plain": [
       "0.567143285989123"
      ]
     },
     "execution_count": 25,
     "metadata": {},
     "output_type": "execute_result"
    }
   ],
   "source": [
    "newton(f,fprime,1,0.001)"
   ]
  },
  {
   "cell_type": "markdown",
   "id": "e86047fc",
   "metadata": {},
   "source": [
    "<h3 style=\"color:green;\">Conclusion</h3>"
   ]
  },
  {
   "cell_type": "markdown",
   "id": "c0243a7b",
   "metadata": {},
   "source": [
    "<p>la méthode de newton est une cas particulier de la méthode de point fixe</p>"
   ]
  },
  {
   "cell_type": "markdown",
   "id": "247b5ab8",
   "metadata": {},
   "source": [
    "<h2 style='color:red;'>Résumé :</h2>"
   ]
  },
  {
   "cell_type": "markdown",
   "id": "6d6135df",
   "metadata": {},
   "source": [
    "-> Pour comparer les algorithmes, il est important de tenir compte de la présence ou non\n",
    "des facteurs suivants :\n",
    "- assurer de la convergence ainsi que la vitesse\n",
    "\n",
    "- stabilité de l'algorithme revient à la précision des résultats\n",
    "\n",
    "- effcacité des calculs (ex : nombre de fonctions à calculer à chaque itération)."
   ]
  },
  {
   "cell_type": "code",
   "execution_count": null,
   "id": "7dbe5c2b",
   "metadata": {},
   "outputs": [],
   "source": []
  }
 ],
 "metadata": {
  "kernelspec": {
   "display_name": "Python 3",
   "language": "python",
   "name": "python3"
  },
  "language_info": {
   "codemirror_mode": {
    "name": "ipython",
    "version": 3
   },
   "file_extension": ".py",
   "mimetype": "text/x-python",
   "name": "python",
   "nbconvert_exporter": "python",
   "pygments_lexer": "ipython3",
   "version": "3.8.8"
  }
 },
 "nbformat": 4,
 "nbformat_minor": 5
}
